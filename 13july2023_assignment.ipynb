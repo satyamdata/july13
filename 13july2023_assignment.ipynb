{
  "nbformat": 4,
  "nbformat_minor": 0,
  "metadata": {
    "colab": {
      "provenance": []
    },
    "kernelspec": {
      "name": "python3",
      "display_name": "Python 3"
    },
    "language_info": {
      "name": "python"
    }
  },
  "cells": [
    {
      "cell_type": "code",
      "execution_count": null,
      "metadata": {
        "colab": {
          "base_uri": "https://localhost:8080/"
        },
        "id": "EHbR4jhFGgWu",
        "outputId": "bd6ee7b6-2007-4e1b-b228-c4aca4a31eae"
      },
      "outputs": [
        {
          "output_type": "stream",
          "name": "stdout",
          "text": [
            "*\n",
            "**\n",
            "***\n",
            "****\n"
          ]
        }
      ],
      "source": [
        "for outerloop in range(1,5):\n",
        "    for innerloop in range(1,outerloop+1):\n",
        "        print(\"*\",end=\"\")\n",
        "    print(\"\")"
      ]
    },
    {
      "cell_type": "code",
      "source": [
        "for outerloop in range(1,5):\n",
        "    for innerloop in range(4,outerloop-1,-1):\n",
        "          print(\"*\", end=\"\" )\n",
        "\n",
        "    print(\"\")"
      ],
      "metadata": {
        "colab": {
          "base_uri": "https://localhost:8080/"
        },
        "id": "myb5myYvGhMh",
        "outputId": "e59fbb47-4062-4a9c-b608-704734500623"
      },
      "execution_count": null,
      "outputs": [
        {
          "output_type": "stream",
          "name": "stdout",
          "text": [
            "****\n",
            "***\n",
            "**\n",
            "*\n"
          ]
        }
      ]
    },
    {
      "cell_type": "code",
      "source": [
        "for outerloop in range(1,5):\n",
        "    for innerloop in range(1,outerloop+1):\n",
        "        print(innerloop,end=\"\")\n",
        "    print(\"\")"
      ],
      "metadata": {
        "colab": {
          "base_uri": "https://localhost:8080/"
        },
        "id": "ja7B3ze8GkjK",
        "outputId": "e43dbefa-a97a-417f-9d0f-f52608638980"
      },
      "execution_count": null,
      "outputs": [
        {
          "output_type": "stream",
          "name": "stdout",
          "text": [
            "1\n",
            "12\n",
            "123\n",
            "1234\n"
          ]
        }
      ]
    },
    {
      "cell_type": "code",
      "source": [
        "for outerloop in range(1, 5):\n",
        "    for innerloop in range(4, outerloop-1,-1):\n",
        "        print(innerloop, end=\"\")\n",
        "    print(\"\")"
      ],
      "metadata": {
        "colab": {
          "base_uri": "https://localhost:8080/"
        },
        "id": "4D6QeFOjIYD0",
        "outputId": "20cedc23-f76c-4a22-8ad5-4907ab30b6c5"
      },
      "execution_count": null,
      "outputs": [
        {
          "output_type": "stream",
          "name": "stdout",
          "text": [
            "4321\n",
            "432\n",
            "43\n",
            "4\n"
          ]
        }
      ]
    },
    {
      "cell_type": "code",
      "source": [
        "for outerloop in range(1,5):\n",
        "    for innerloop in range(1,outerloop+1):\n",
        "        print(chr(innerloop+64),end=\"\")\n",
        "    print(\"\")"
      ],
      "metadata": {
        "colab": {
          "base_uri": "https://localhost:8080/"
        },
        "id": "mhYni1bdI78K",
        "outputId": "2a0188f7-8461-4421-8403-364747002dea"
      },
      "execution_count": null,
      "outputs": [
        {
          "output_type": "stream",
          "name": "stdout",
          "text": [
            "A\n",
            "AB\n",
            "ABC\n",
            "ABCD\n"
          ]
        }
      ]
    },
    {
      "cell_type": "code",
      "source": [],
      "metadata": {
        "id": "_hg3QLiGMyf1"
      },
      "execution_count": null,
      "outputs": []
    },
    {
      "cell_type": "code",
      "source": [
        "start_value = 65  # ASCII value for 'A'\n",
        "\n",
        "for outerloop in range(1, 5):\n",
        "    for innerloop in range(outerloop):\n",
        "        print(chr(start_value), end=\"\")\n",
        "        start_value += 1\n",
        "    print(\"\")"
      ],
      "metadata": {
        "colab": {
          "base_uri": "https://localhost:8080/"
        },
        "id": "e-vwEDSNNfJ8",
        "outputId": "8173d91f-9a73-42ce-9d8c-89e24015cfe7"
      },
      "execution_count": null,
      "outputs": [
        {
          "output_type": "stream",
          "name": "stdout",
          "text": [
            "A\n",
            "BC\n",
            "DEF\n",
            "GHIJ\n"
          ]
        }
      ]
    },
    {
      "cell_type": "code",
      "source": [
        "for outerloop in range(1, 6 ,2):\n",
        "    for innerloop in range(outerloop):\n",
        "        print(\"*\", end=\"\")\n",
        "    print(\"\")"
      ],
      "metadata": {
        "colab": {
          "base_uri": "https://localhost:8080/"
        },
        "id": "ybBX_E1IZ2ej",
        "outputId": "ec3f7f24-f7c9-478e-b9a0-44feb9b519ad"
      },
      "execution_count": null,
      "outputs": [
        {
          "output_type": "stream",
          "name": "stdout",
          "text": [
            "*\n",
            "***\n",
            "*****\n"
          ]
        }
      ]
    },
    {
      "cell_type": "code",
      "source": [
        "num =1\n",
        "for outerloop in range(1, 5):\n",
        "    for innerloop in range(outerloop):\n",
        "        print(num, end=\" \")\n",
        "        num+= 1\n",
        "\n",
        "\n",
        "\n",
        "    print(\"\")"
      ],
      "metadata": {
        "colab": {
          "base_uri": "https://localhost:8080/"
        },
        "id": "Z80PSUFVZ3gJ",
        "outputId": "28745f48-34bf-4857-8f2d-3a0bf4b19707"
      },
      "execution_count": null,
      "outputs": [
        {
          "output_type": "stream",
          "name": "stdout",
          "text": [
            "1 \n",
            "2 3 \n",
            "4 5 6 \n",
            "7 8 9 10 \n"
          ]
        }
      ]
    },
    {
      "cell_type": "code",
      "source": [
        "for outerloop in range(2, 10, 2):\n",
        "    for innerloop in range(outerloop):\n",
        "        print(\"*\", end=\"\")\n",
        "    print(\"\")"
      ],
      "metadata": {
        "colab": {
          "base_uri": "https://localhost:8080/"
        },
        "id": "3eQhN68Tfjco",
        "outputId": "9dc58a54-b98e-43ef-8f5a-66d913e5e09f"
      },
      "execution_count": 7,
      "outputs": [
        {
          "output_type": "stream",
          "name": "stdout",
          "text": [
            "**\n",
            "****\n",
            "******\n",
            "********\n"
          ]
        }
      ]
    },
    {
      "cell_type": "code",
      "source": [
        " for outerloop in range(1, 5):\n",
        "    for innerloop in range(5 - outerloop):\n",
        "        print(\" \", end=\"\")\n",
        "    for innerloop in range(outerloop):\n",
        "        print(\"*\", end=\"\")\n",
        "    print(\"\")"
      ],
      "metadata": {
        "colab": {
          "base_uri": "https://localhost:8080/"
        },
        "id": "V_u_ya86f3X8",
        "outputId": "915a5d9a-d6b1-4ca5-9726-48013e39907a"
      },
      "execution_count": null,
      "outputs": [
        {
          "output_type": "stream",
          "name": "stdout",
          "text": [
            "    *\n",
            "   **\n",
            "  ***\n",
            " ****\n"
          ]
        }
      ]
    },
    {
      "cell_type": "code",
      "source": [
        "for i in range (1,5):\n",
        "    count=45\n",
        "    count+=i\n",
        "print(count)\n",
        "\n",
        "\n",
        ""
      ],
      "metadata": {
        "colab": {
          "base_uri": "https://localhost:8080/"
        },
        "id": "BlUrFR-zgQ0I",
        "outputId": "ceb94037-97e9-44ed-dec6-95694b7d80f3"
      },
      "execution_count": 51,
      "outputs": [
        {
          "output_type": "stream",
          "name": "stdout",
          "text": [
            "49\n"
          ]
        }
      ]
    },
    {
      "cell_type": "code",
      "source": [
        "my_list = [[1, 'two'], [3, 'four'], [5]]\n",
        "\n",
        "int_list = [element for sublist in my_list for element in sublist if isinstance(element, int)]\n",
        "str_list = [element for sublist in my_list for element in sublist if isinstance(element, str)]\n",
        "\n",
        "print(int_list)\n",
        "print(str_list)"
      ],
      "metadata": {
        "colab": {
          "base_uri": "https://localhost:8080/"
        },
        "id": "mif5Sz3NbJxA",
        "outputId": "d06b3570-12b0-461c-f48e-a5b61d83220d"
      },
      "execution_count": 2,
      "outputs": [
        {
          "output_type": "stream",
          "name": "stdout",
          "text": [
            "[1, 3, 5]\n",
            "['two', 'four']\n"
          ]
        }
      ]
    },
    {
      "cell_type": "code",
      "source": [
        "data = [2, 5, 8, 10]\n",
        "\n",
        "squared_values = [x**2 for x in data if isinstance(x, int)]\n",
        "\n",
        "print(squared_values)"
      ],
      "metadata": {
        "colab": {
          "base_uri": "https://localhost:8080/"
        },
        "id": "HvoF-yNAb3hQ",
        "outputId": "958af300-9faa-4b4d-f062-83d0222c6b8e"
      },
      "execution_count": 4,
      "outputs": [
        {
          "output_type": "stream",
          "name": "stdout",
          "text": [
            "[4, 25, 64, 100]\n"
          ]
        }
      ]
    },
    {
      "cell_type": "code",
      "source": [
        "my_list = ['apple', 'banana', 'cat', 'dog', 'elephant', 'frog']\n",
        "\n",
        "for element in my_list:\n",
        "    if isinstance(element, str) and len(element) > 3:\n",
        "        print(element)"
      ],
      "metadata": {
        "colab": {
          "base_uri": "https://localhost:8080/"
        },
        "id": "xqVUF9q5bK8D",
        "outputId": "cde8fe7b-6328-4ee1-b200-37e88a97d912"
      },
      "execution_count": 52,
      "outputs": [
        {
          "output_type": "stream",
          "name": "stdout",
          "text": [
            "apple\n",
            "banana\n",
            "elephant\n",
            "frog\n"
          ]
        }
      ]
    },
    {
      "cell_type": "code",
      "source": [
        "for i in range (1,5):\n",
        "\n",
        "  for k in range (1,i):\n",
        "      print(\" \",end=\"\")\n",
        "  for l in range (5,i,-1):\n",
        "        print(\"*\",end=\"\")\n",
        "  print(\"\")"
      ],
      "metadata": {
        "colab": {
          "base_uri": "https://localhost:8080/"
        },
        "id": "yB65ps_3nnv4",
        "outputId": "98d0f010-1126-4e08-ef16-1a94eb6c18c6"
      },
      "execution_count": 123,
      "outputs": [
        {
          "output_type": "stream",
          "name": "stdout",
          "text": [
            "****\n",
            " ***\n",
            "  **\n",
            "   *\n"
          ]
        }
      ]
    }
  ]
}